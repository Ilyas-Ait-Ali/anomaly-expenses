{
 "cells": [
  {
   "cell_type": "markdown",
   "id": "06302ebf",
   "metadata": {},
   "source": [
    "## Deployment Overview\n",
    "\n",
    "This notebook documents how we deploy the trained Random Forest fraud detection model from this project to a user-facing web app using **Streamlit Cloud**."
   ]
  },
  {
   "cell_type": "markdown",
   "id": "132772e3",
   "metadata": {},
   "source": [
    "## Project Structure\n",
    "\n",
    "Key files relevant to deployment:\n",
    "\n",
    "```\n",
    "├── models/\n",
    "│   └── random_forest_fraud.pkl        # Trained model used for predictions\n",
    "├── data/\n",
    "│   └── sample_input.csv               # Example input CSV for testing\n",
    "├── streamlit_app.py                   # Streamlit app frontend\n",
    "├── requirements.txt                   # Dependencies for deployment\n",
    "├── save_clean_model.py                # Script to re-train and save model\n",
    "└── ...\n",
    "```"
   ]
  },
  {
   "cell_type": "markdown",
   "id": "3025ac21",
   "metadata": {},
   "source": [
    "## Streamlit App Functionality\n",
    "\n",
    "The app lets users:\n",
    "\n",
    "- Upload their own transaction CSV file or use a built-in sample.\n",
    "- View fraud predictions for each transaction.\n",
    "- Inspect the number of flagged transactions."
   ]
  },
  {
   "cell_type": "markdown",
   "id": "cc845fec",
   "metadata": {},
   "source": [
    "## Model Dependencies\n",
    "\n",
    "Make sure the following packages are included in `requirements.txt`:\n",
    "\n",
    "```\n",
    "pandas>=1.5\n",
    "numpy>=1.21\n",
    "matplotlib>=3.5\n",
    "seaborn>=0.11\n",
    "jupyter>=1.0\n",
    "scikit-learn>=1.2\n",
    "joblib>=1.2\n",
    "streamlit>=1.20\n",
    "```"
   ]
  },
  {
   "cell_type": "markdown",
   "id": "8316411d",
   "metadata": {},
   "source": [
    "## Deployment Instructions\n",
    "\n",
    "1. Ensure your trained model is saved in `models/random_forest_fraud.pkl`.\n",
    "2. Push your entire project (including model, `streamlit_app.py`, and `requirements.txt`) to GitHub.\n",
    "3. Go to [Streamlit Cloud](https://streamlit.io/cloud) and:\n",
    "   - Click **\"New app\"**\n",
    "   - Connect to your GitHub repo\n",
    "   - Set the main file path to `streamlit_app.py`\n",
    "   - Click **\"Deploy\"**\n",
    "4. The app will install dependencies and start running."
   ]
  },
  {
   "cell_type": "markdown",
   "id": "e1af52fc",
   "metadata": {},
   "source": [
    "## Common Issues\n",
    "\n",
    "- ❌ `ModuleNotFoundError`: Add missing package to `requirements.txt`.\n",
    "- ❌ `Model file not found`: Ensure `models/random_forest_fraud.pkl` exists and is pushed (remove it from `.gitignore` if needed).\n",
    "- ✅ Use `@st.cache_resource` to cache the model on load."
   ]
  }
 ],
 "metadata": {},
 "nbformat": 4,
 "nbformat_minor": 5
}
