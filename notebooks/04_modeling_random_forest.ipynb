{
 "cells": [
  {
   "cell_type": "code",
   "execution_count": 1,
   "id": "be64b676",
   "metadata": {},
   "outputs": [
    {
     "name": "stdout",
     "output_type": "stream",
     "text": [
      "Cleaned data loaded\n",
      "Classification Report:\n",
      "               precision    recall  f1-score   support\n",
      "\n",
      "           0       1.00      1.00      1.00     56651\n",
      "           1       0.97      0.71      0.82        95\n",
      "\n",
      "    accuracy                           1.00     56746\n",
      "   macro avg       0.99      0.85      0.91     56746\n",
      "weighted avg       1.00      1.00      1.00     56746\n",
      "\n",
      "Confusion Matrix:\n",
      " [[56649     2]\n",
      " [   28    67]]\n"
     ]
    },
    {
     "data": {
      "image/png": "[encoded data removed]",
      "text/plain": [
       "<Figure size 640x480 with 2 Axes>"
      ]
     },
     "metadata": {},
     "output_type": "display_data"
    }
   ],
   "source": [
    "import pandas as pd\n",
    "import numpy as np\n",
    "from sklearn.model_selection import train_test_split\n",
    "from sklearn.ensemble import RandomForestClassifier\n",
    "from sklearn.metrics import classification_report, confusion_matrix\n",
    "from sklearn.preprocessing import StandardScaler\n",
    "import seaborn as sns\n",
    "import matplotlib.pyplot as plt\n",
    "\n",
    "# Load cleaned dataset\n",
    "df = pd.read_csv('../data/creditcard_cleaned.csv')\n",
    "print(\"Cleaned data loaded\")\n",
    "\n",
    "# Separate features and target\n",
    "X = df.drop(columns=['is_fraud'])\n",
    "y = df['is_fraud'].astype(int)\n",
    "\n",
    "# Scale features (optional but safe)\n",
    "scaler = StandardScaler()\n",
    "X_scaled = scaler.fit_transform(X)\n",
    "\n",
    "# Train/test split\n",
    "X_train, X_test, y_train, y_test = train_test_split(X_scaled, y, test_size=0.2, random_state=42, stratify=y)\n",
    "\n",
    "# Train Random Forest with class balancing\n",
    "model = RandomForestClassifier(n_estimators=100, class_weight='balanced', random_state=42)\n",
    "model.fit(X_train, y_train)\n",
    "\n",
    "# Predict on test set\n",
    "y_pred = model.predict(X_test)\n",
    "\n",
    "# Classification report\n",
    "print(\"Classification Report:\\n\", classification_report(y_test, y_pred))\n",
    "\n",
    "# Confusion matrix\n",
    "cm = confusion_matrix(y_test, y_pred)\n",
    "print(\"Confusion Matrix:\\n\", cm)\n",
    "\n",
    "# Confusion matrix heatmap\n",
    "sns.heatmap(cm, annot=True, fmt='d', cmap='Blues',\n",
    "            xticklabels=['Pred: Not Fraud', 'Pred: Fraud'],\n",
    "            yticklabels=['Actual: Not Fraud', 'Actual: Fraud'])\n",
    "plt.title(\"Confusion Matrix - Random Forest\")\n",
    "plt.show()"
   ]
  },
  {
   "cell_type": "markdown",
   "id": "59011076",
   "metadata": {},
   "source": [
    "## Model Performance Summary\n",
    "\n",
    "We trained a Random Forest classifier on the cleaned credit card transaction data using class weighting to address class imbalance.\n",
    "\n",
    "## Confusion Matrix\n",
    "\n",
    "|                         | Predicted Not Fraud | Predicted Fraud |\n",
    "|-------------------------|---------------------|-----------------|\n",
    "| **Actual Not Fraud**    | 56,649 ✅            | 2 ❌ (False Positives) |\n",
    "| **Actual Fraud**        | 28 ❌ (False Negatives) | 67 ✅ (True Positives) |\n",
    "\n",
    "- **Total samples**: 56,746  \n",
    "- **Fraud cases**: 95 (≈0.17%)  \n",
    "- **Legit cases**: 56,651\n",
    "\n",
    "---\n",
    "\n",
    "### Classification Report (Class 1 = Fraud)\n",
    "\n",
    "| Metric      | Score     |\n",
    "|-------------|-----------|\n",
    "| **Precision** | 0.97 ✅  |\n",
    "| **Recall**    | 0.71 ✅  |\n",
    "| **F1 Score**  | 0.82 ✅  |\n",
    "| **Accuracy**  | ~99.8% ✅ |\n",
    "\n",
    "- **Precision**: Only 2 false alarms out of 69 fraud predictions, very high trustworthiness  \n",
    "- **Recall**: Caught 71% of actual fraud cases, very solid  \n",
    "- **F1 Score**: Strong balance between catching fraud and keeping false alarms low\n",
    "\n",
    "---\n",
    "\n",
    "### Interpretation\n",
    "\n",
    "- The model **prioritizes precision**, making it suitable for real-world fraud alert systems where false alarms are expensive.\n",
    "- **Very low false positive rate** (only 2 out of 56,651 non-fraud cases).\n",
    "- Slight drop in recall compared to Logistic Regression (which had 0.87), but **far better precision** (0.97 vs 0.06).\n",
    "- **Training time** was longer (~1.5 min), but performance gain is worth it.\n",
    "\n",
    "---\n",
    "\n",
    "### Conclusion\n",
    "\n",
    "Random Forest strikes a strong balance between **fraud detection and trustworthiness**, making it a solid candidate for deployment or dashboard integration."
   ]
  }
 ],
 "metadata": {
  "kernelspec": {
   "display_name": "Python 3",
   "language": "python",
   "name": "python3"
  },
  "language_info": {
   "codemirror_mode": {
    "name": "ipython",
    "version": 3
   },
   "file_extension": ".py",
   "mimetype": "text/x-python",
   "name": "python",
   "nbconvert_exporter": "python",
   "pygments_lexer": "ipython3",
   "version": "3.10.11"
  }
 },
 "nbformat": 4,
 "nbformat_minor": 5
}
